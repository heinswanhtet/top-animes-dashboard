{
 "cells": [
  {
   "cell_type": "code",
   "execution_count": null,
   "metadata": {},
   "outputs": [],
   "source": [
    "import pandas as pd\n",
    "import numpy as np\n",
    "from scipy import stats"
   ]
  },
  {
   "cell_type": "code",
   "execution_count": null,
   "metadata": {},
   "outputs": [],
   "source": [
    "animes = pd.read_csv('./anime_data_2006_2022_cleaned.csv')"
   ]
  },
  {
   "cell_type": "code",
   "execution_count": null,
   "metadata": {},
   "outputs": [
    {
     "data": {
      "text/plain": [
       "Power_divergenceResult(statistic=9115.906150919465, pvalue=0.0)"
      ]
     },
     "metadata": {},
     "output_type": "display_data"
    }
   ],
   "source": [
    "def get_category_count_from_str(col):\n",
    "    cat_df = col.str.split(',', expand=True).stack().str.strip()\n",
    "    cat_df = pd.get_dummies(cat_df, prefix='', prefix_sep='')\n",
    "\n",
    "    cat_counts = cat_df.sum(axis=0)\n",
    "\n",
    "    # print(cat_counts.sort_values(ascending=False))\n",
    "    return cat_counts\n",
    "\n",
    "df = animes[animes['year'] == 2017]\n",
    "\n",
    "observations = get_category_count_from_str(df['themes']).values\n",
    "expectations = np.full(len(observations), (np.average(observations)))\n",
    "\n",
    "result = stats.chisquare(f_obs=observations, f_exp=expectations)\n",
    "result"
   ]
  },
  {
   "cell_type": "code",
   "execution_count": null,
   "metadata": {},
   "outputs": [
    {
     "data": {
      "text/html": [
       "<div>\n",
       "<style scoped>\n",
       "    .dataframe tbody tr th:only-of-type {\n",
       "        vertical-align: middle;\n",
       "    }\n",
       "\n",
       "    .dataframe tbody tr th {\n",
       "        vertical-align: top;\n",
       "    }\n",
       "\n",
       "    .dataframe thead th {\n",
       "        text-align: right;\n",
       "    }\n",
       "</style>\n",
       "<table border=\"1\" class=\"dataframe\">\n",
       "  <thead>\n",
       "    <tr style=\"text-align: right;\">\n",
       "      <th>season</th>\n",
       "      <th>Fall</th>\n",
       "      <th>Spring</th>\n",
       "      <th>Summer</th>\n",
       "      <th>Winter</th>\n",
       "    </tr>\n",
       "    <tr>\n",
       "      <th>studios</th>\n",
       "      <th></th>\n",
       "      <th></th>\n",
       "      <th></th>\n",
       "      <th></th>\n",
       "    </tr>\n",
       "  </thead>\n",
       "  <tbody>\n",
       "    <tr>\n",
       "      <th>Sunrise</th>\n",
       "      <td>74</td>\n",
       "      <td>60</td>\n",
       "      <td>77</td>\n",
       "      <td>65</td>\n",
       "    </tr>\n",
       "    <tr>\n",
       "      <th>Toei Animation</th>\n",
       "      <td>67</td>\n",
       "      <td>56</td>\n",
       "      <td>62</td>\n",
       "      <td>81</td>\n",
       "    </tr>\n",
       "    <tr>\n",
       "      <th>J.C.Staff</th>\n",
       "      <td>63</td>\n",
       "      <td>54</td>\n",
       "      <td>61</td>\n",
       "      <td>55</td>\n",
       "    </tr>\n",
       "    <tr>\n",
       "      <th>A-1 Pictures</th>\n",
       "      <td>60</td>\n",
       "      <td>58</td>\n",
       "      <td>43</td>\n",
       "      <td>53</td>\n",
       "    </tr>\n",
       "    <tr>\n",
       "      <th>OLM</th>\n",
       "      <td>53</td>\n",
       "      <td>50</td>\n",
       "      <td>47</td>\n",
       "      <td>20</td>\n",
       "    </tr>\n",
       "    <tr>\n",
       "      <th>...</th>\n",
       "      <td>...</td>\n",
       "      <td>...</td>\n",
       "      <td>...</td>\n",
       "      <td>...</td>\n",
       "    </tr>\n",
       "    <tr>\n",
       "      <th>Yumeta Company,Goto Inc.</th>\n",
       "      <td>0</td>\n",
       "      <td>0</td>\n",
       "      <td>0</td>\n",
       "      <td>1</td>\n",
       "    </tr>\n",
       "    <tr>\n",
       "      <th>d00r works</th>\n",
       "      <td>0</td>\n",
       "      <td>0</td>\n",
       "      <td>0</td>\n",
       "      <td>1</td>\n",
       "    </tr>\n",
       "    <tr>\n",
       "      <th>helo.inc</th>\n",
       "      <td>0</td>\n",
       "      <td>0</td>\n",
       "      <td>0</td>\n",
       "      <td>1</td>\n",
       "    </tr>\n",
       "    <tr>\n",
       "      <th>lxtl,LIDENFILMS</th>\n",
       "      <td>0</td>\n",
       "      <td>0</td>\n",
       "      <td>0</td>\n",
       "      <td>1</td>\n",
       "    </tr>\n",
       "    <tr>\n",
       "      <th>pH Studio,D &amp; D Pictures</th>\n",
       "      <td>0</td>\n",
       "      <td>0</td>\n",
       "      <td>0</td>\n",
       "      <td>1</td>\n",
       "    </tr>\n",
       "  </tbody>\n",
       "</table>\n",
       "<p>1219 rows × 4 columns</p>\n",
       "</div>"
      ],
      "text/plain": [
       "season                    Fall  Spring  Summer  Winter\n",
       "studios                                               \n",
       "Sunrise                     74      60      77      65\n",
       "Toei Animation              67      56      62      81\n",
       "J.C.Staff                   63      54      61      55\n",
       "A-1 Pictures                60      58      43      53\n",
       "OLM                         53      50      47      20\n",
       "...                        ...     ...     ...     ...\n",
       "Yumeta Company,Goto Inc.     0       0       0       1\n",
       "d00r works                   0       0       0       1\n",
       "helo.inc                     0       0       0       1\n",
       "lxtl,LIDENFILMS              0       0       0       1\n",
       "pH Studio,D & D Pictures     0       0       0       1\n",
       "\n",
       "[1219 rows x 4 columns]"
      ]
     },
     "metadata": {},
     "output_type": "display_data"
    }
   ],
   "source": [
    "sampled_data = animes.sample(n=1000, replace=True, random_state=42)\n",
    "\n",
    "table = pd.crosstab(animes['studios'], animes['season'])\n",
    "table = table[table.index != 'Others'].sort_values(by=['Fall', 'Spring', 'Summer', 'Winter'], ascending=False)\n",
    "table"
   ]
  },
  {
   "cell_type": "code",
   "execution_count": null,
   "metadata": {},
   "outputs": [
    {
     "data": {
      "text/plain": [
       "Chi2ContingencyResult(statistic=4090.2855179676403, pvalue=4.3004519457109063e-07, dof=3654, expected_freq=array([[72.70780856, 67.87027708, 66.82745592, 68.59445844],\n",
       "       [70.07346767, 65.41120907, 64.40617128, 66.10915197],\n",
       "       [61.38014274, 57.29628463, 56.41593199, 57.90764064],\n",
       "       ...,\n",
       "       [ 0.26343409,  0.2459068 ,  0.24212846,  0.24853065],\n",
       "       [ 0.26343409,  0.2459068 ,  0.24212846,  0.24853065],\n",
       "       [ 0.26343409,  0.2459068 ,  0.24212846,  0.24853065]]))"
      ]
     },
     "metadata": {},
     "output_type": "display_data"
    }
   ],
   "source": [
    "result = stats.chi2_contingency(table, correction=False)\n",
    "result "
   ]
  }
 ],
 "metadata": {
  "language_info": {
   "name": "python"
  }
 },
 "nbformat": 4,
 "nbformat_minor": 2
}
